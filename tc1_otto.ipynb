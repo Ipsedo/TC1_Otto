{
 "cells": [
  {
   "cell_type": "code",
   "execution_count": 75,
   "metadata": {},
   "outputs": [],
   "source": [
    "import pandas\n",
    "import numpy as np"
   ]
  },
  {
   "cell_type": "code",
   "execution_count": 76,
   "metadata": {},
   "outputs": [],
   "source": [
    "def open_otto_csv(file):\n",
    "\treturn pandas.read_csv(file, sep=',')"
   ]
  },
  {
   "cell_type": "code",
   "execution_count": 77,
   "metadata": {},
   "outputs": [],
   "source": [
    "files = {\"train\": \"./res/train.csv\", \"test\": \"./res/test.csv\"}\n",
    "files[\"train\"] = open_otto_csv(files[\"train\"])\n",
    "files[\"test\"] = open_otto_csv(files[\"test\"])"
   ]
  },
  {
   "cell_type": "code",
   "execution_count": 78,
   "metadata": {},
   "outputs": [],
   "source": [
    "def get_x_y(pandas_data_frame):\n",
    "\ty = pandas_data_frame[\"target\"]\n",
    "\tx = pandas_data_frame.drop(columns=[\"id\", \"target\"])\n",
    "\treturn x, y"
   ]
  },
  {
   "cell_type": "code",
   "execution_count": 85,
   "metadata": {},
   "outputs": [],
   "source": [
    "from sklearn.model_selection import train_test_split\n",
    "\n",
    "train_x, train_y = get_x_y(files[\"train\"])\n",
    "\n",
    "# Split des données en partition de train et partition de validation\n",
    "train_x, train_vx, train_y, train_vy = train_test_split(train_x, train_y, test_size=0.2, train_size=0.8, random_state=42)"
   ]
  },
  {
   "cell_type": "code",
   "execution_count": 92,
   "metadata": {},
   "outputs": [],
   "source": [
    "from sklearn.metrics import f1_score\n",
    "\n",
    "def evaluate_model(true_y, y_pred):\n",
    "    score = f1_score(true_y, y_pred, average = 'weighted')\n",
    "    tmp_y=np.asarray(true_y)\n",
    "    print(\"f1_score precision : (version sklearn)\", score)\n",
    "    print(\"evaluation (version Sam) : \")\n",
    "    print(tmp_y[tmp_y==y_pred].shape[0], \"/\", y_pred.shape[0])\n",
    "    print(\"Precision : %f\" % (tmp_y[tmp_y==y_pred].shape[0] / y_pred.shape[0]))"
   ]
  },
  {
   "cell_type": "markdown",
   "metadata": {},
   "source": [
    "## Comparatif sur quelques classifiers différents"
   ]
  },
  {
   "cell_type": "markdown",
   "metadata": {},
   "source": [
    "### Classifier : SVM"
   ]
  },
  {
   "cell_type": "code",
   "execution_count": 91,
   "metadata": {},
   "outputs": [
    {
     "name": "stderr",
     "output_type": "stream",
     "text": [
      "/home/biard/anaconda3/lib/python3.6/site-packages/sklearn/svm/base.py:218: ConvergenceWarning: Solver terminated early (max_iter=1000).  Consider pre-processing your data with StandardScaler or MinMaxScaler.\n",
      "  % self.max_iter, ConvergenceWarning)\n"
     ]
    },
    {
     "name": "stdout",
     "output_type": "stream",
     "text": [
      "f1_score precision : (version sklearn) 0.7168810963548745\n",
      "evaluation version Sam : \n",
      "8872 / 12376\n",
      "Precision : 0.716871\n"
     ]
    }
   ],
   "source": [
    "import sklearn.svm as svm\n",
    "\n",
    "svc = svm.SVC(max_iter = 1000)\n",
    "svc.fit(train_x, train_y)\n",
    "\n",
    "y_pred2 = svc.predict(train_vx)\n",
    "\n",
    "evaluate_model(train_vy, y_pred2)"
   ]
  },
  {
   "cell_type": "markdown",
   "metadata": {},
   "source": [
    "### Classifier : K-NN"
   ]
  },
  {
   "cell_type": "code",
   "execution_count": 93,
   "metadata": {},
   "outputs": [
    {
     "name": "stdout",
     "output_type": "stream",
     "text": [
      "f1_score precision : (version sklearn) 0.7739562191425366\n",
      "evaluation (version Sam) : \n",
      "9662 / 12376\n",
      "Precision : 0.780705\n"
     ]
    }
   ],
   "source": [
    "from sklearn.neighbors import KNeighborsClassifier\n",
    "\n",
    "knn = KNeighborsClassifier()\n",
    "knn.fit(train_x, train_y)\n",
    "\n",
    "y_pred3 = knn.predict(train_vx)\n",
    "\n",
    "evaluate_model(train_vy, y_pred3)"
   ]
  },
  {
   "cell_type": "markdown",
   "metadata": {},
   "source": [
    "### Classifier : Naive Bayes"
   ]
  },
  {
   "cell_type": "code",
   "execution_count": 94,
   "metadata": {},
   "outputs": [
    {
     "name": "stdout",
     "output_type": "stream",
     "text": [
      "f1_score precision : (version sklearn) 0.6286302230265768\n",
      "evaluation (version Sam) : \n",
      "7684 / 12376\n",
      "Precision : 0.620879\n"
     ]
    }
   ],
   "source": [
    "from sklearn.naive_bayes import GaussianNB\n",
    "\n",
    "nb = GaussianNB()\n",
    "nb.fit(train_x, train_y)\n",
    "\n",
    "y_pred4 = nb.predict(train_vx)\n",
    "\n",
    "evaluate_model(train_vy, y_pred4)"
   ]
  }
 ],
 "metadata": {
  "kernelspec": {
   "display_name": "Python 3",
   "language": "python",
   "name": "python3"
  },
  "language_info": {
   "codemirror_mode": {
    "name": "ipython",
    "version": 3
   },
   "file_extension": ".py",
   "mimetype": "text/x-python",
   "name": "python",
   "nbconvert_exporter": "python",
   "pygments_lexer": "ipython3",
   "version": "3.6.6"
  }
 },
 "nbformat": 4,
 "nbformat_minor": 1
}
